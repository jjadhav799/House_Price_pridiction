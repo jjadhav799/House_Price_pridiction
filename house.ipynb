import pandas as pd 
import numpy as np 
import matplotlib.pyplot as plt 
import seaborn as sns 
from sklearn.model_selection import train_test_split
from sklearn.linear_model import LinearRegression
from sklearn.ensemble import RandomForestRegressor
from sklearn.metrics import mean_squared_error, r2_score

# Load the data
data = pd.read_csv("housing.csv")

# Display the first few rows of the dataset
print(data.head())

# Check the data types and missing values
print(data.info())

# Drop rows with missing values
data.dropna(inplace=True)

# Verify no missing values remain
print(data.info())

# Perform one-hot encoding for 'ocean_proximity' column
if 'ocean_proximity' in data.columns:
    data = data.join(pd.get_dummies(data['ocean_proximity'], prefix='ocean_proximity')).drop(['ocean_proximity'], axis=1)
else:
    print("'ocean_proximity' column is not found in the dataset")

# Split the data into features and target variable
x = data.drop(['median_house_value'], axis=1)
y = data['median_house_value']

# Split the data into training and testing sets
x_train, x_test, y_train, y_test = train_test_split(x, y, test_size=0.2, random_state=42)

# Combine the training features and target variable for analysis
train_data = x_train.join(y_train)

# Plot histograms of the training data
train_data.hist(figsize=(15, 8))
plt.show()

# Check the data types of the training data
print(train_data.dtypes)

# Select only numeric columns for the correlation matrix
numeric_cols = train_data.select_dtypes(include=[np.number]).columns
train_data_numeric = train_data[numeric_cols]

# Calculate the correlation matrix
corr_matrix = train_data_numeric.corr()

# Plot the heatmap
plt.figure(figsize=(15, 8))
sns.heatmap(corr_matrix, annot=True, cmap="YlGnBu")
plt.show()

# Apply log transformation to reduce skewness
train_data['total_rooms'] = np.log(train_data['total_rooms'] + 1)
train_data['total_bedrooms'] = np.log(train_data['total_bedrooms'] + 1)
train_data['population'] = np.log(train_data['population'] + 1)
train_data['households'] = np.log(train_data['households'] + 1)

# Plot histograms after log transformation
train_data.hist(figsize=(15, 8))
plt.show()

# Add new features
train_data['bedroom_ratio'] = train_data['total_bedrooms'] / train_data['total_rooms']
train_data['households_rooms'] = train_data['total_rooms'] / train_data['households']

# Plot the correlation matrix after adding new features
plt.figure(figsize=(15, 8))
sns.heatmap(train_data.corr(), annot=True, cmap="YlGnBu")
plt.show()

# Linear model
x_train = train_data.drop(['median_house_value'], axis=1)
y_train = train_data['median_house_value']
reg = LinearRegression()
reg.fit(x_train, y_train)

# Test data processing
test_data = x_test.join(y_test)
test_data['total_rooms'] = np.log(test_data['total_rooms'] + 1)
test_data['total_bedrooms'] = np.log(test_data['total_bedrooms'] + 1)
test_data['population'] = np.log(test_data['population'] + 1)
test_data['households'] = np.log(test_data['households'] + 1)
test_data['bedroom_ratio'] = test_data['total_bedrooms'] / test_data['total_rooms']
test_data['households_rooms'] = test_data['total_rooms'] / test_data['households']

# Prediction using Linear Regression
x_test_processed = test_data.drop(['median_house_value'], axis=1)
y_test_actual = test_data['median_house_value']
y_test_predicted_lr = reg.predict(x_test_processed)

# Display the predicted vs actual values for Linear Regression
test_results_lr = pd.DataFrame({'Actual': y_test_actual, 'Predicted': y_test_predicted_lr})
print("Linear Regression Results:")
print(test_results_lr.head())

# Calculate performance metrics for Linear Regression
mse_lr = mean_squared_error(y_test_actual, y_test_predicted_lr)
r2_lr = r2_score(y_test_actual, y_test_predicted_lr)
print(f"Linear Regression Mean Squared Error: {mse_lr}")
print(f"Linear Regression R^2 Score: {r2_lr}")

# Random Forest model
rf = RandomForestRegressor(n_estimators=100, random_state=42)
rf.fit(x_train, y_train)

# Prediction using Random Forest
y_test_predicted_rf = rf.predict(x_test_processed)

# Display the predicted vs actual values for Random Forest
test_results_rf = pd.DataFrame({'Actual': y_test_actual, 'Predicted': y_test_predicted_rf})
print("Random Forest Results:")
print(test_results_rf.head())

# Calculate performance metrics for Random Forest
mse_rf = mean_squared_error(y_test_actual, y_test_predicted_rf)
r2_rf = r2_score(y_test_actual, y_test_predicted_rf)
print(f"Random Forest Mean Squared Error: {mse_rf}")
print(f"Random Forest R^2 Score: {r2_rf}")
